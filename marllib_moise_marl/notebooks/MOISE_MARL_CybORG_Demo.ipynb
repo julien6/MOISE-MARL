{
 "cells": [
  {
   "cell_type": "markdown",
   "id": "d726b772",
   "metadata": {},
   "source": [
    "# 🧠 Using MOISE+MARL in CybORG\n",
    "\n",
    "This notebook demonstrates how to apply the **MOISE+MARL framework** to the **CybORG cybersecurity simulation** using role-based logic to structure defender behaviors."
   ]
  },
  {
   "cell_type": "markdown",
   "id": "7b27851c",
   "metadata": {},
   "source": [
    "## 1. Import Dependencies"
   ]
  },
  {
   "cell_type": "code",
   "execution_count": null,
   "id": "0998a456",
   "metadata": {},
   "outputs": [],
   "source": [
    "import gym\n",
    "import math\n",
    "import numpy as np\n",
    "from marllib import marl\n",
    "from mma_wrapper.label_manager import label_manager\n",
    "from mma_wrapper.organizational_model import (\n",
    "    organizational_model, structural_specifications,\n",
    "    functional_specifications, deontic_specifications,\n",
    "    deontic_specification, time_constraint_type\n",
    ")\n",
    "from mma_wrapper.organizational_specification_logic import role_logic\n",
    "from mma_wrapper.utils import label, observation, action, trajectory\n",
    "from marllib.envs.base_env.cyborg import create_env\n",
    "from CybORG.Simulator.Actions.ConcreteActions.RemoveOtherSessions import RemoveOtherSessions\n",
    "from CybORG.Simulator.Actions.ConcreteActions.ControlTraffic import BlockTraffic\n",
    "from CybORG.Simulator.Actions.ConcreteActions.ExploitActions.RetakeControl import RetakeControl\n",
    "from CybORG.Simulator.Actions import Sleep\n",
    "from ipaddress import IPv4Address"
   ]
  },
  {
   "cell_type": "markdown",
   "id": "0c7dc063",
   "metadata": {},
   "source": [
    "## 2. Define the Label Manager"
   ]
  },
  {
   "cell_type": "code",
   "execution_count": null,
   "id": "68104ade",
   "metadata": {},
   "outputs": [],
   "source": [
    "class cyborg_label_manager(label_manager):\n",
    "    def __init__(self, ip_list, ip_host_map, msg_len, agent_host_map, int_to_action, action_space=None, observation_space=None):\n",
    "        super().__init__(action_space, observation_space)\n",
    "        self.ip_list = ip_list\n",
    "        self.ip_host_map = ip_host_map\n",
    "        self.msg_len = msg_len\n",
    "        self.agent_host_map = agent_host_map\n",
    "        self.int_to_action = int_to_action\n",
    "\n",
    "    def get_ip_from_host(self, hostname):\n",
    "        for ip, host in self.ip_host_map.items():\n",
    "            if host == hostname:\n",
    "                return str(ip)\n",
    "        return None\n",
    "\n",
    "    def get_host_from_agent(self, agent_name):\n",
    "        return self.agent_host_map.get(agent_name, None)\n",
    "\n",
    "    def one_hot_decode_observation(self, observation, agent=None):\n",
    "        num_drones = len(self.ip_list)\n",
    "        obs = {}\n",
    "        idx = 0\n",
    "        success_val = observation[idx]\n",
    "        success_enum = {0: \"FAILURE\", 1: \"SUCCESS\", 2: \"UNKNOWN\"}\n",
    "        obs[\"success\"] = success_enum.get(success_val + 1, \"UNKNOWN\")\n",
    "        idx += 1\n",
    "        own_drone = self.agent_host_map[agent]\n",
    "        own_ip = next(ip for ip, host in self.ip_host_map.items() if host == own_drone)\n",
    "        obs[own_drone] = {\n",
    "            \"Interface\": [{\"Interface Name\": \"wlan0\", \"IP Address\": str(own_ip)}],\n",
    "            \"System info\": {},\n",
    "        }\n",
    "        blocked_ips = [str(ip) for i, ip in enumerate(self.ip_list) if observation[idx + i] == 1]\n",
    "        idx += num_drones\n",
    "        obs[own_drone][\"Interface\"][0][\"blocked_ips\"] = blocked_ips\n",
    "        if observation[idx] == 1:\n",
    "            obs[own_drone][\"Processes\"] = [{\"PID\": 1094, \"Username\": \"root\"}]\n",
    "        idx += 1\n",
    "        net_conns = [{\"remote_address\": str(ip)} for i, ip in enumerate(self.ip_list) if observation[idx + i] == 1]\n",
    "        idx += num_drones\n",
    "        if net_conns:\n",
    "            obs[own_drone][\"Interface\"][0][\"NetworkConnections\"] = net_conns\n",
    "        obs[own_drone][\"System info\"][\"position\"] = [observation[idx], observation[idx + 1]]\n",
    "        idx += 2\n",
    "        obs.update({host: {\"System info\": {}} for ip, host in self.ip_host_map.items() if host != own_drone})\n",
    "        for _ in range(num_drones - 1):\n",
    "            drone_id = observation[idx]; idx += 1\n",
    "            pos_x = observation[idx]; pos_y = observation[idx + 1]; idx += 2\n",
    "            has_session = observation[idx] == 1; idx += 1\n",
    "            ip = self.ip_list[drone_id]\n",
    "            hostname = self.ip_host_map[ip]\n",
    "            obs[hostname][\"System info\"][\"position\"] = [pos_x, pos_y]\n",
    "            if has_session:\n",
    "                obs[hostname][\"Sessions\"] = [{\"Username\": \"root\", \"ID\": 0}]\n",
    "        if self.msg_len > 0:\n",
    "            obs[\"message\"] = observation[idx:idx + self.msg_len].tolist()\n",
    "        return obs\n",
    "\n",
    "    def one_hot_encode_action(self, action, agent=None):\n",
    "        for idx, cyborg_action in self.int_to_action[agent].items():\n",
    "            if type(cyborg_action) == type(action):\n",
    "                if cyborg_action.__dict__ == {k: IPv4Address(v) if k == \"ip_address\" and isinstance(v, str) else v for k, v in action.__dict__.items()}:\n",
    "                    return idx\n",
    "        raise ValueError(\"Action not found\")\n",
    "\n",
    "    def one_hot_decode_action(self, action, agent=None):\n",
    "        return self.int_to_action[agent][action]"
   ]
  },
  {
   "cell_type": "markdown",
   "id": "cb5e568a",
   "metadata": {},
   "source": [
    "## 3. Define Role Logic Functions"
   ]
  },
  {
   "cell_type": "code",
   "execution_count": null,
   "id": "7ae2b7e5",
   "metadata": {},
   "outputs": [],
   "source": [
    "def primary_fun_system_cleaner(traj, obs, agent_name, label_mgr):\n",
    "    data = label_mgr.one_hot_decode_observation(obs, agent=agent_name)\n",
    "    hostname = label_mgr.get_host_from_agent(agent_name)\n",
    "    proc = 'Processes' in data.get(hostname, {})\n",
    "    conn = any('NetworkConnections' in iface and iface['NetworkConnections']\n",
    "               for iface in data.get(hostname, {}).get('Interface', []))\n",
    "    if proc or conn:\n",
    "        return label_mgr.one_hot_encode_action(RemoveOtherSessions(agent=agent_name, session=0), agent_name)\n",
    "    return label_mgr.one_hot_encode_action(Sleep(), agent_name)\n",
    "\n",
    "def primary_fun_firewall_operator(traj, obs, agent_name, label_mgr):\n",
    "    data = label_mgr.one_hot_decode_observation(obs, agent=agent_name)\n",
    "    hostname = label_mgr.get_host_from_agent(agent_name)\n",
    "    seen = []\n",
    "    for iface in data.get(hostname, {}).get(\"Interface\", []):\n",
    "        for conn in iface.get(\"NetworkConnections\", []):\n",
    "            ip = conn.get(\"remote_address\")\n",
    "            if ip and ip not in iface.get(\"blocked_ips\", []):\n",
    "                seen.append(ip)\n",
    "    if seen:\n",
    "        return label_mgr.one_hot_encode_action(BlockTraffic(agent=agent_name, ip_address=seen[0], session=0), agent_name)\n",
    "    return label_mgr.one_hot_encode_action(Sleep(), agent_name)\n",
    "\n",
    "def primary_fun_system_rescuer(traj, obs, agent_name, label_mgr):\n",
    "    data = label_mgr.one_hot_decode_observation(obs, agent=agent_name)\n",
    "    hostname = label_mgr.get_host_from_agent(agent_name)\n",
    "    if \"Sessions\" not in data.get(hostname, {}):\n",
    "        ip = label_mgr.get_ip_from_host(hostname)\n",
    "        return label_mgr.one_hot_encode_action(RetakeControl(agent=agent_name, ip_address=ip, session=0), agent_name)\n",
    "    return label_mgr.one_hot_encode_action(Sleep(), agent_name)"
   ]
  },
  {
   "cell_type": "markdown",
   "id": "9db1d7ac",
   "metadata": {},
   "source": [
    "## 4. Setup Environment and Organizational Model"
   ]
  },
  {
   "cell_type": "code",
   "execution_count": null,
   "id": "78a434e6",
   "metadata": {},
   "outputs": [],
   "source": [
    "_env = create_env()\n",
    "_env.reset()\n",
    "ip_list = _env.ip_addresses\n",
    "ip_host_map = {ip: host for host, ip in _env.env.get_ip_map().items()}\n",
    "msg_len = _env.msg_len\n",
    "agent_host_map = _env.agent_host_map\n",
    "int_to_action = _env.int_to_action\n",
    "\n",
    "label_mgr = cyborg_label_manager(ip_list, ip_host_map, msg_len, agent_host_map, int_to_action)\n",
    "\n",
    "cyborg_model = organizational_model(\n",
    "    structural_specifications(\n",
    "        roles={\n",
    "            \"SystemCleaner\": role_logic(label_manager=label_mgr).registrer_script_rule(primary_fun_system_cleaner),\n",
    "            \"FirewallOperator\": role_logic(label_manager=label_mgr).registrer_script_rule(primary_fun_firewall_operator),\n",
    "            \"SystemRescuer\": role_logic(label_manager=label_mgr).registrer_script_rule(primary_fun_system_rescuer)\n",
    "        },\n",
    "        role_inheritance_relations={}, root_groups={}\n",
    "    ),\n",
    "    functional_specifications=functional_specifications(goals={}, social_scheme={}, mission_preferences=[]),\n",
    "    deontic_specifications=deontic_specifications(\n",
    "        obligations=[\n",
    "            deontic_specification(\"SystemCleaner\", [\"blue_agent_0\"], [], time_constraint_type.ANY),\n",
    "            deontic_specification(\"FirewallOperator\", [\"blue_agent_1\"], [], time_constraint_type.ANY),\n",
    "            deontic_specification(\"SystemRescuer\", [\"blue_agent_2\"], [], time_constraint_type.ANY),\n",
    "        ],\n",
    "        permissions=[]\n",
    "    )\n",
    ")"
   ]
  },
  {
   "cell_type": "markdown",
   "id": "750374c6",
   "metadata": {},
   "source": [
    "## 5. Create Environment with MOISE+MARL"
   ]
  },
  {
   "cell_type": "code",
   "execution_count": null,
   "id": "51a84ef0",
   "metadata": {},
   "outputs": [],
   "source": [
    "env = marl.make_env(environment_name=\"cyborg\", map_name=\"cage3\", organizational_model=cyborg_model)"
   ]
  },
  {
   "cell_type": "markdown",
   "id": "e9074967",
   "metadata": {},
   "source": [
    "## 6. Initialize Algorithm and Render"
   ]
  },
  {
   "cell_type": "code",
   "execution_count": null,
   "id": "969d7295",
   "metadata": {},
   "outputs": [],
   "source": [
    "mappo = marl.algos.mappo(hyperparam_source=\"test\")\n",
    "model = marl.build_model(env, mappo, {\"core_arch\": \"mlp\", \"encode_layer\": \"128-256\"})\n",
    "\n",
    "# mappo.fit(env, model, stop={'timesteps_total': 2e6})  # Optional training\n",
    "\n",
    "mappo.render(env, model,\n",
    "    restore_path={\n",
    "        'params_path': \"./exp_results/mappo_mlp_cage3_copy/.../params.json\",\n",
    "        'model_path': \"./exp_results/mappo_mlp_cage3_copy/.../checkpoint-20\",\n",
    "        'render_env': True\n",
    "    },\n",
    "    local_mode=True,\n",
    "    share_policy=\"group\"\n",
    ")"
   ]
  },
  {
   "cell_type": "markdown",
   "id": "db6d893e",
   "metadata": {},
   "source": [
    "## ✅ Conclusion\n",
    "In this notebook, we:\n",
    "- Defined organizational roles for blue agents in CybORG\n",
    "- Mapped each role to script-based policies\n",
    "- Created a MOISE+MARL organizational model\n",
    "- Visualized and validated behavior using the rendering engine."
   ]
  }
 ],
 "metadata": {},
 "nbformat": 4,
 "nbformat_minor": 5
}
