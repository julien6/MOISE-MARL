{
 "cells": [
  {
   "cell_type": "markdown",
   "id": "adaae6c0",
   "metadata": {},
   "source": [
    "# 🧠 Using MOISE+MARL in Overcooked-AI\n",
    "\n",
    "This notebook demonstrates how to use the **MOISE+MARL framework** to enforce **organizational roles and constraints** in the Overcooked-AI environment using **script-based role logic**."
   ]
  },
  {
   "cell_type": "markdown",
   "id": "98bf8792",
   "metadata": {},
   "source": [
    "## 1. Install and Import Dependencies"
   ]
  },
  {
   "cell_type": "code",
   "execution_count": null,
   "id": "879d764a",
   "metadata": {},
   "outputs": [],
   "source": [
    "# !pip install marllib\n",
    "# !pip install -e mma_wrapper/  # assuming your wrapper is a local editable package"
   ]
  },
  {
   "cell_type": "code",
   "execution_count": null,
   "id": "c29ba686",
   "metadata": {},
   "outputs": [],
   "source": [
    "import numpy as np\n",
    "import gym\n",
    "from marllib import marl\n",
    "from mma_wrapper.label_manager import label_manager\n",
    "from mma_wrapper.organizational_model import (\n",
    "    organizational_model, structural_specifications,\n",
    "    functional_specifications, deontic_specifications,\n",
    "    deontic_specification, time_constraint_type\n",
    ")\n",
    "from mma_wrapper.organizational_specification_logic import role_logic"
   ]
  },
  {
   "cell_type": "markdown",
   "id": "c6444e1b",
   "metadata": {},
   "source": [
    "## 2. Define the `label_manager` for Overcooked"
   ]
  },
  {
   "cell_type": "code",
   "execution_count": null,
   "id": "b3c750cc",
   "metadata": {},
   "outputs": [],
   "source": [
    "from collections import OrderedDict\n",
    "\n",
    "def decompose_feature_vector(feature_vector, num_agents=2, num_pots=2):\n",
    "    index = 0\n",
    "    features = OrderedDict()\n",
    "    features[\"orientation\"] = feature_vector[index:index+4]; index += 4\n",
    "    features[\"held_object\"] = feature_vector[index:index+4]; index += 4\n",
    "    for obj in [\"onion\", \"tomato\", \"dish\", \"soup\", \"serving\", \"empty_counter\"]:\n",
    "        features[f\"dist_{obj}\"] = feature_vector[index:index+2]; index += 2\n",
    "    features[\"soup_num_onions\"] = feature_vector[index]; index += 1\n",
    "    features[\"soup_num_tomatoes\"] = feature_vector[index]; index += 1\n",
    "    for pot_idx in range(num_pots):\n",
    "        for key in [\"exists\", \"is_empty\", \"is_full\", \"is_cooking\", \"is_ready\",\n",
    "                    \"num_onions\", \"num_tomatoes\", \"cook_time\"]:\n",
    "            features[f\"pot_{pot_idx}_{key}\"] = feature_vector[index]; index += 1\n",
    "        features[f\"pot_{pot_idx}_dist\"] = feature_vector[index:index+2]; index += 2\n",
    "    for d in range(4):\n",
    "        features[f\"wall_{d}\"] = feature_vector[index]; index += 1\n",
    "    length_other = (num_agents - 1) * (num_pots * 10 + 26)\n",
    "    features[\"other_player_features\"] = feature_vector[index:index+length_other]; index += length_other\n",
    "    features[\"relative_distances_to_others\"] = feature_vector[index:index+2*(num_agents-1)]; index += 2*(num_agents-1)\n",
    "    features[\"absolute_position\"] = feature_vector[index:index+2]\n",
    "    return dict(features)"
   ]
  },
  {
   "cell_type": "code",
   "execution_count": null,
   "id": "7d0e0906",
   "metadata": {},
   "outputs": [],
   "source": [
    "class OvercookedLabelManager(label_manager):\n",
    "    def __init__(self, action_space=None, observation_space=None):\n",
    "        super().__init__(action_space, observation_space)\n",
    "        self.action_encode = {\"up\": 0, \"down\": 1, \"right\": 2, \"left\": 3, \"nothing\": 4, \"interact\": 5}\n",
    "        self.action_decode = {v: k for k, v in self.action_encode.items()}\n",
    "\n",
    "    def one_hot_decode_observation(self, observation, agent=None):\n",
    "        return decompose_feature_vector(observation)\n",
    "\n",
    "    def one_hot_encode_action(self, action, agent=None):\n",
    "        return self.action_encode[action]\n",
    "\n",
    "    def one_hot_decode_action(self, action, agent=None):\n",
    "        return self.action_decode[action]"
   ]
  },
  {
   "cell_type": "markdown",
   "id": "721603d9",
   "metadata": {},
   "source": [
    "## 3. Define Script-Based Role Logic"
   ]
  },
  {
   "cell_type": "code",
   "execution_count": null,
   "id": "3522b107",
   "metadata": {},
   "outputs": [],
   "source": [
    "def primary_fun(trajectory, observation, agent_name, label_manager):\n",
    "    obs = label_manager.one_hot_decode_observation(observation)\n",
    "    orientation = obs[\"orientation\"]\n",
    "    held_object = np.array(obs[\"held_object\"])\n",
    "    dist_dish = obs[\"dist_dish\"]\n",
    "    dist_onion = obs[\"dist_onion\"]\n",
    "    dist_empty_counter = obs[\"dist_empty_counter\"]\n",
    "    facing_walls = [obs[f\"wall_{d}\"] for d in range(4)]\n",
    "\n",
    "    # Sample simplified logic\n",
    "    if held_object[0] == 1:\n",
    "        return label_manager.one_hot_encode_action(\"interact\")\n",
    "    elif np.all(held_object == 0):\n",
    "        return label_manager.one_hot_encode_action(\"right\")\n",
    "    return label_manager.one_hot_encode_action(\"nothing\")"
   ]
  },
  {
   "cell_type": "markdown",
   "id": "20b707d6",
   "metadata": {},
   "source": [
    "## 4. Create the Organizational Model"
   ]
  },
  {
   "cell_type": "code",
   "execution_count": null,
   "id": "8da523d6",
   "metadata": {},
   "outputs": [],
   "source": [
    "label_mngr = OvercookedLabelManager()\n",
    "org_model = organizational_model(\n",
    "    structural_specifications(\n",
    "        roles={\n",
    "            \"role_primary\": role_logic(label_manager=label_mngr).registrer_script_rule(primary_fun),\n",
    "            \"role_secondary\": role_logic(label_manager=label_mngr).registrer_script_rule(primary_fun)\n",
    "        },\n",
    "        role_inheritance_relations={},\n",
    "        root_groups={}\n",
    "    ),\n",
    "    functional_specifications=functional_specifications(\n",
    "        goals={}, social_scheme={}, mission_preferences=[]\n",
    "    ),\n",
    "    deontic_specifications=deontic_specifications(\n",
    "        obligations=[\n",
    "            deontic_specification(\"role_primary\", [\"agent_0\"], [], time_constraint_type.ANY),\n",
    "            deontic_specification(\"role_secondary\", [\"agent_1\"], [], time_constraint_type.ANY)\n",
    "        ],\n",
    "        permissions=[]\n",
    "    )\n",
    ")"
   ]
  },
  {
   "cell_type": "markdown",
   "id": "cff9c497",
   "metadata": {},
   "source": [
    "## 5. Create and Wrap the Environment"
   ]
  },
  {
   "cell_type": "code",
   "execution_count": null,
   "id": "e07b29eb",
   "metadata": {},
   "outputs": [],
   "source": [
    "env = marl.make_env(\n",
    "    environment_name=\"overcooked\",\n",
    "    map_name=\"asymmetric_advantages\",\n",
    "    organizational_model=org_model\n",
    ")"
   ]
  },
  {
   "cell_type": "markdown",
   "id": "40a6a557",
   "metadata": {},
   "source": [
    "## 6. Define Algorithm and Train"
   ]
  },
  {
   "cell_type": "code",
   "execution_count": null,
   "id": "987bbdf8",
   "metadata": {},
   "outputs": [],
   "source": [
    "algo = marl.algos.mappo(hyperparam_source=\"test\")\n",
    "model = marl.build_model(env, algo, {\"core_arch\": \"mlp\", \"encode_layer\": \"128-256\"})\n",
    "\n",
    "# Optional: Uncomment to train\n",
    "# algo.fit(env, model, stop={\"timesteps_total\": 1e6})"
   ]
  },
  {
   "cell_type": "markdown",
   "id": "d3474f40",
   "metadata": {},
   "source": [
    "## 7. Visualize & Analyze with TEMM"
   ]
  },
  {
   "cell_type": "code",
   "execution_count": null,
   "id": "18bc8030",
   "metadata": {},
   "outputs": [],
   "source": [
    "algo.render(env, model,\n",
    "    restore_path={\n",
    "        \"params_path\": \"path/to/params.json\",\n",
    "        \"model_path\": \"path/to/checkpoint/checkpoint-XX\",\n",
    "        \"render_env\": True\n",
    "    },\n",
    "    enable_temm=True,\n",
    "    local_mode=True,\n",
    "    share_policy=\"group\"\n",
    ")"
   ]
  },
  {
   "cell_type": "markdown",
   "id": "80c9c2d0",
   "metadata": {},
   "source": [
    "## ✅ Conclusion\n",
    "This notebook showed how to:\n",
    "- Define role logic using script-based rules\n",
    "- Integrate those rules into MOISE+MARL\n",
    "- Train and visualize behavior in Overcooked-AI\n",
    "- Use the **TEMM method** to analyze organizational fit"
   ]
  }
 ],
 "metadata": {},
 "nbformat": 4,
 "nbformat_minor": 5
}
