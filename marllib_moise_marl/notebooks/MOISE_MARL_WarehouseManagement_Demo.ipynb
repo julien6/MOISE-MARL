{
 "cells": [
  {
   "cell_type": "markdown",
   "id": "85af4b88",
   "metadata": {},
   "source": [
    "# 🧠 Using MOISE+MARL in Warehouse Management\n",
    "\n",
    "This notebook demonstrates how to apply the **MOISE+MARL framework** to a **warehouse logistics environment**, where agents coordinate to transport objects and fulfill delivery roles."
   ]
  },
  {
   "cell_type": "markdown",
   "id": "ca02ac85",
   "metadata": {},
   "source": [
    "## 1. Import Dependencies"
   ]
  },
  {
   "cell_type": "code",
   "execution_count": null,
   "id": "68d16df8",
   "metadata": {},
   "outputs": [],
   "source": [
    "import math\n",
    "import gym\n",
    "import random\n",
    "import numpy as np\n",
    "from marllib import marl\n",
    "from random import randint\n",
    "from mma_wrapper.label_manager import label_manager\n",
    "from mma_wrapper.organizational_model import (\n",
    "    organizational_model, structural_specifications,\n",
    "    functional_specifications, deontic_specifications,\n",
    "    deontic_specification, time_constraint_type\n",
    ")\n",
    "from mma_wrapper.organizational_specification_logic import role_logic\n",
    "from mma_wrapper.utils import label, observation, action, trajectory\n",
    "from marllib.envs.base_env.wmt import RLlibWMT"
   ]
  },
  {
   "cell_type": "markdown",
   "id": "921468f5",
   "metadata": {},
   "source": [
    "## 2. Define the Label Manager"
   ]
  },
  {
   "cell_type": "code",
   "execution_count": null,
   "id": "d785add8",
   "metadata": {},
   "outputs": [],
   "source": [
    "class wm_label_manager(label_manager):\n",
    "    def __init__(self, action_space=None, observation_space=None, view_scope=None):\n",
    "        super().__init__(action_space, observation_space)\n",
    "        self.view_scope = view_scope\n",
    "        self.action_encode = {\"nothing\": 0, \"up\": 1, \"down\": 2, \"left\": 3, \"right\": 4, \"pick\": 5, \"drop\": 6}\n",
    "        self.action_decode = {v: k for k, v in self.action_encode.items()}\n",
    "        self.cell_encode = {\n",
    "            \"empty\": 1, \"obstacle\": 0, \"agent\": 2, \"agent_with_primary\": 3,\n",
    "            \"agent_with_secondary\": 4, \"primary_object\": 5, \"secondary_object\": 6,\n",
    "            \"empty_input\": 7, \"input_with_object\": 8, \"empty_input_craft\": 9,\n",
    "            \"input_craft_with_object\": 10, \"empty_output_craft\": 11,\n",
    "            \"output_craft_with_object\": 12, \"empty_output\": 13, \"output_with_object\": 14\n",
    "        }\n",
    "        self.cell_decode = {v: k for k, v in self.cell_encode.items()}\n",
    "\n",
    "    def one_hot_encode_observation(self, observation, agent=None):\n",
    "        obs = np.asarray(observation).reshape(-1)\n",
    "        return np.asarray([self.cell_encode[cell] for cell in obs])\n",
    "\n",
    "    def one_hot_decode_observation(self, observation, agent=None):\n",
    "        obs = np.asarray([self.cell_decode[val] for val in observation])\n",
    "        if self.view_scope:\n",
    "            return obs.reshape((self.view_scope * 2 + 1), (self.view_scope * 2 + 1))\n",
    "        return obs\n",
    "\n",
    "    def one_hot_encode_action(self, action, agent=None):\n",
    "        return self.action_encode[action]\n",
    "\n",
    "    def one_hot_decode_action(self, action, agent=None):\n",
    "        return self.action_decode[action]"
   ]
  },
  {
   "cell_type": "markdown",
   "id": "d4991357",
   "metadata": {},
   "source": [
    "## 3. Define Role Logic Functions"
   ]
  },
  {
   "cell_type": "code",
   "execution_count": null,
   "id": "1b82bc6d",
   "metadata": {},
   "outputs": [],
   "source": [
    "def primary_fun(trajectory, observation, agent_name, label_manager):\n",
    "    data = label_manager.one_hot_decode_observation(observation, agent=agent_name)\n",
    "    x, y = data.shape[0] // 2, data.shape[1] // 2\n",
    "    if randint(0, 100) < 20:\n",
    "        return randint(1, 4)\n",
    "    if data[x, y] == \"agent_with_primary\":\n",
    "        for i in range(data.shape[0]):\n",
    "            for j in range(data.shape[1]):\n",
    "                if data[i, j] == \"empty_input_craft\":\n",
    "                    dx, dy = i - x, j - y\n",
    "                    if abs(dx) == 0 and abs(dy) == 1:\n",
    "                        return 6\n",
    "                    return [1, 2][dx > 0] if abs(dx) >= abs(dy) else [3, 4][dy > 0]\n",
    "        return 3\n",
    "    if data[x, y] == \"agent\":\n",
    "        for i in range(data.shape[0]):\n",
    "            for j in range(data.shape[1]):\n",
    "                if data[i, j] == \"input_with_object\":\n",
    "                    dx, dy = i - x, j - y\n",
    "                    if abs(dx) == 0 and abs(dy) == 1:\n",
    "                        return 5\n",
    "                    return [1, 2][dx > 0] if abs(dx) >= abs(dy) else [3, 4][dy > 0]\n",
    "        return 3\n",
    "    return 0\n",
    "\n",
    "def secondary_fun(trajectory, observation, agent_name, label_manager):\n",
    "    data = label_manager.one_hot_decode_observation(observation, agent=agent_name)\n",
    "    def block_around(x, y, grid, block):\n",
    "        for dx, dy in [(1, 0), (0, 1), (0, -1), (-1, 0)]:\n",
    "            if grid[x+dx][y+dy] == block:\n",
    "                return True\n",
    "    if randint(0, 100) < 40:\n",
    "        return randint(1, 4)\n",
    "    x, y = data.shape[0] // 2, data.shape[1] // 2\n",
    "    if data[x, y] == \"agent_with_secondary\":\n",
    "        for i in range(data.shape[0]):\n",
    "            for j in range(data.shape[1]):\n",
    "                if data[i, j] == \"empty_output\":\n",
    "                    dx, dy = i - x, j - y\n",
    "                    if abs(dx) == 0 and abs(dy) == 1:\n",
    "                        return 6\n",
    "                    return [1, 2][dx > 0] if abs(dx) >= abs(dy) else [3, 4][dy > 0]\n",
    "        return 4\n",
    "    if data[x, y] == \"agent\":\n",
    "        if block_around(x, y, data, \"output_craft_with_object\"):\n",
    "            return 5\n",
    "        for i in range(data.shape[0]):\n",
    "            for j in range(data.shape[1]):\n",
    "                if data[i, j] == \"output_craft_with_object\":\n",
    "                    dx, dy = i - x, j - y\n",
    "                    return [1, 2][dx > 0] if abs(dx) >= abs(dy) else [3, 4][dy > 0]\n",
    "        return random.choice([2, 4]) if randint(0, 100) < 70 else randint(1, 4)\n",
    "    return 0"
   ]
  },
  {
   "cell_type": "markdown",
   "id": "499654a4",
   "metadata": {},
   "source": [
    "## 4. Setup Environment and Organizational Model"
   ]
  },
  {
   "cell_type": "code",
   "execution_count": null,
   "id": "1fce98da",
   "metadata": {},
   "outputs": [],
   "source": [
    "_env = RLlibWMT({\"map_name\": \"warehouse_management\"})\n",
    "view_scope = _env.env.par_env.view_size\n",
    "wm_label_mngr = wm_label_manager(view_scope=view_scope)\n",
    "\n",
    "wm_model = organizational_model(\n",
    "    structural_specifications(\n",
    "        roles={\n",
    "            \"role_primary\": role_logic(label_manager=wm_label_mngr).registrer_script_rule(primary_fun),\n",
    "            \"role_secondary\": role_logic(label_manager=wm_label_mngr).registrer_script_rule(secondary_fun)\n",
    "        },\n",
    "        role_inheritance_relations={}, root_groups={}\n",
    "    ),\n",
    "    functional_specifications=functional_specifications(goals={}, social_scheme={}, mission_preferences=[]),\n",
    "    deontic_specifications=deontic_specifications(\n",
    "        obligations=[\n",
    "            deontic_specification(\"role_primary\", [\"agent_0\", \"agent_1\"], [], time_constraint_type.ANY),\n",
    "            deontic_specification(\"role_secondary\", [\"agent_2\"], [], time_constraint_type.ANY)\n",
    "        ],\n",
    "        permissions=[]\n",
    "    )\n",
    ")"
   ]
  },
  {
   "cell_type": "markdown",
   "id": "2c354c19",
   "metadata": {},
   "source": [
    "## 5. Create Environment with MOISE+MARL"
   ]
  },
  {
   "cell_type": "code",
   "execution_count": null,
   "id": "28fb093c",
   "metadata": {},
   "outputs": [],
   "source": [
    "env = marl.make_env(\n",
    "    environment_name=\"wmt\",\n",
    "    map_name=\"warehouse_management\",\n",
    "    organizational_model=wm_model\n",
    ")"
   ]
  },
  {
   "cell_type": "markdown",
   "id": "a71917ca",
   "metadata": {},
   "source": [
    "## 6. Train or Render the Environment"
   ]
  },
  {
   "cell_type": "code",
   "execution_count": null,
   "id": "e1b4aa77",
   "metadata": {},
   "outputs": [],
   "source": [
    "mappo = marl.algos.mappo(hyperparam_source=\"test\")\n",
    "model = marl.build_model(env, mappo, {\"core_arch\": \"mlp\", \"encode_layer\": \"128-256\"})\n",
    "\n",
    "# mappo.fit(env, model, stop={'timesteps_total': 2e6})  # Optional training\n",
    "\n",
    "mappo.render(env, model,\n",
    "    restore_path={\n",
    "        'params_path': \"./exp_results/mappo_mlp_warehouse_management_copy/.../params.json\",\n",
    "        'model_path': \"./exp_results/mappo_mlp_warehouse_management_copy/.../checkpoint-20\",\n",
    "        'render_env': True\n",
    "    },\n",
    "    local_mode=True,\n",
    "    share_policy=\"group\"\n",
    ")"
   ]
  },
  {
   "cell_type": "markdown",
   "id": "d3984430",
   "metadata": {},
   "source": [
    "## ✅ Conclusion\n",
    "In this notebook:\n",
    "- We defined agent roles for warehouse logistics\n",
    "- Built a MOISE+ organizational model with script-based role logic\n",
    "- Wrapped the environment and rendered agent behavior accordingly"
   ]
  }
 ],
 "metadata": {},
 "nbformat": 4,
 "nbformat_minor": 5
}
